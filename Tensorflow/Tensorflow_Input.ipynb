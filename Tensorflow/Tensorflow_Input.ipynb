{
  "nbformat": 4,
  "nbformat_minor": 0,
  "metadata": {
    "colab": {
      "name": "Tensorflow_Input.ipynb",
      "provenance": [],
      "authorship_tag": "ABX9TyPnimF2y2xlzlmD4sApQHQb",
      "include_colab_link": true
    },
    "kernelspec": {
      "name": "python3",
      "display_name": "Python 3"
    }
  },
  "cells": [
    {
      "cell_type": "markdown",
      "metadata": {
        "id": "view-in-github",
        "colab_type": "text"
      },
      "source": [
        "<a href=\"https://colab.research.google.com/github/Dt-Pham/self-driving-car-2/blob/master/Tensorflow/Tensorflow_Input.ipynb\" target=\"_parent\"><img src=\"https://colab.research.google.com/assets/colab-badge.svg\" alt=\"Open In Colab\"/></a>"
      ]
    },
    {
      "cell_type": "markdown",
      "metadata": {
        "id": "5vBQwzYNxfkr",
        "colab_type": "text"
      },
      "source": [
        "# **Input**"
      ]
    },
    {
      "cell_type": "markdown",
      "metadata": {
        "id": "K7A7bv8UxlAV",
        "colab_type": "text"
      },
      "source": [
        "In the last section, you passed a tensor into a session and it returned the result. What if you want to use a non-constant? This is where `tf.placeholder()` and `feed_dict` come into place. In this section, you'll go over the basics of feeding data into TensorFlow.\n"
      ]
    },
    {
      "cell_type": "markdown",
      "metadata": {
        "id": "XDaYshmQx6Tx",
        "colab_type": "text"
      },
      "source": [
        "## tf.placeholder()"
      ]
    },
    {
      "cell_type": "markdown",
      "metadata": {
        "id": "2Psa12YQx9mY",
        "colab_type": "text"
      },
      "source": [
        "Sadly you can't just set `x` to your dataset and put it in TensorFlow, because over time you'll want your TensorFlow model to take in different datasets with different parameters. You need `tf.placeholder()`.\n",
        "\n",
        "`tf.placeholder()` returns a tensor that gets its value from data passed to the `tf.session.run()` functions, allowing you to set the input right before the session runs."
      ]
    },
    {
      "cell_type": "markdown",
      "metadata": {
        "id": "LDzHz7Z5yfcw",
        "colab_type": "text"
      },
      "source": [
        "## Session's feed_dict"
      ]
    },
    {
      "cell_type": "code",
      "metadata": {
        "id": "lvNrXvZgy-N3",
        "colab_type": "code",
        "colab": {}
      },
      "source": [
        "import tensorflow.compat.v1 as tf\n",
        "tf.disable_v2_behavior()"
      ],
      "execution_count": 3,
      "outputs": []
    },
    {
      "cell_type": "code",
      "metadata": {
        "id": "1GC6fBKtynUq",
        "colab_type": "code",
        "colab": {
          "base_uri": "https://localhost:8080/",
          "height": 34
        },
        "outputId": "aac3fb52-1a99-48c3-c432-d3d8fb42f0d5"
      },
      "source": [
        "x = tf.placeholder(tf.string)\n",
        "\n",
        "with tf.Session() as sess:\n",
        "    output = sess.run(x, feed_dict={x:\"Hello world\"})\n",
        "    print(output)"
      ],
      "execution_count": 5,
      "outputs": [
        {
          "output_type": "stream",
          "text": [
            "Hello world\n"
          ],
          "name": "stdout"
        }
      ]
    },
    {
      "cell_type": "markdown",
      "metadata": {
        "id": "hN-0z0WwzNrf",
        "colab_type": "text"
      },
      "source": [
        "Use the `feed_dict` parameter in **`tf.session.run()`** to set the placeholder tensor. The above example shows the tensor `x` being set the the string `\"Hello, world\"`. It's also possible to set more than one tensor using `feed_dict` as shown below."
      ]
    },
    {
      "cell_type": "code",
      "metadata": {
        "id": "hTzhYLatzoyZ",
        "colab_type": "code",
        "colab": {}
      },
      "source": [
        "x = tf.placeholder(tf.string)\n",
        "y = tf.placeholder(tf.int32)\n",
        "z = tf.placeholder(tf.float32)\n",
        "\n",
        "with tf.Session() as sess:\n",
        "    ouput = sess.run(x, feed_dict={x:\"Test String\", y:123, z: 45.67})"
      ],
      "execution_count": 7,
      "outputs": []
    },
    {
      "cell_type": "code",
      "metadata": {
        "id": "VZtCgTpQz0EZ",
        "colab_type": "code",
        "colab": {}
      },
      "source": [
        ""
      ],
      "execution_count": null,
      "outputs": []
    }
  ]
}