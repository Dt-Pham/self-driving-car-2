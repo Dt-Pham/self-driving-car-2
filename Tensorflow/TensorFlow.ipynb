{
  "nbformat": 4,
  "nbformat_minor": 0,
  "metadata": {
    "colab": {
      "name": "TensorFlow.ipynb",
      "provenance": [],
      "collapsed_sections": [],
      "authorship_tag": "ABX9TyMzubnxxIIqlUt9oQpLTf2x",
      "include_colab_link": true
    },
    "kernelspec": {
      "name": "python3",
      "display_name": "Python 3"
    }
  },
  "cells": [
    {
      "cell_type": "markdown",
      "metadata": {
        "id": "view-in-github",
        "colab_type": "text"
      },
      "source": [
        "<a href=\"https://colab.research.google.com/github/Dt-Pham/self-driving-car-2/blob/master/Tensorflow/TensorFlow.ipynb\" target=\"_parent\"><img src=\"https://colab.research.google.com/assets/colab-badge.svg\" alt=\"Open In Colab\"/></a>"
      ]
    },
    {
      "cell_type": "markdown",
      "metadata": {
        "id": "HDwOmREWsdo-",
        "colab_type": "text"
      },
      "source": [
        "# **Hello, Tensor World!**\n",
        "Let's analyze the Hello World script you ran. For reference, I've added the code below."
      ]
    },
    {
      "cell_type": "code",
      "metadata": {
        "id": "72jlUtyshKJ3",
        "colab_type": "code",
        "colab": {}
      },
      "source": [
        "import tensorflow.compat.v1 as tf\n",
        "tf.disable_v2_behavior()"
      ],
      "execution_count": 13,
      "outputs": []
    },
    {
      "cell_type": "code",
      "metadata": {
        "id": "squ4EjZIhMLp",
        "colab_type": "code",
        "colab": {
          "base_uri": "https://localhost:8080/",
          "height": 34
        },
        "outputId": "9fd14c79-ebad-4b86-8690-ddc222a7bc59"
      },
      "source": [
        "# Create TensorFlow object called tensor\n",
        "hello_constant = tf.constant('Hello World!')\n",
        "\n",
        "with tf.Session() as sess:\n",
        "    # Run the tf.constant operation in the session\n",
        "    output = sess.run(hello_constant)\n",
        "    print(output)\n"
      ],
      "execution_count": 14,
      "outputs": [
        {
          "output_type": "stream",
          "text": [
            "b'Hello World!'\n"
          ],
          "name": "stdout"
        }
      ]
    },
    {
      "cell_type": "markdown",
      "metadata": {
        "id": "5vezwGFVhcfG",
        "colab_type": "text"
      },
      "source": [
        "## Tensor"
      ]
    },
    {
      "cell_type": "markdown",
      "metadata": {
        "id": "6wjtoR8Bs55t",
        "colab_type": "text"
      },
      "source": [
        "In TensorFlow, data isn't stored as integers, floats, or string. These values are encapsulated in an object called a tensor. In the case of `hello_constant = tf.constant('Hello World!')`, `hello_constant` is a 0-dimensional string tensor, but tensors come in a variety of sizes as shown below:"
      ]
    },
    {
      "cell_type": "code",
      "metadata": {
        "id": "ogwqfDM0tUY0",
        "colab_type": "code",
        "colab": {}
      },
      "source": [
        "# A is a 0-dimensional int32 tensor\n",
        "A = tf.constant(1234)\n",
        "# B is a 1-dimensional int32 tensor\n",
        "B = tf.constant([123, 456, 789])\n",
        "# C is a 2-dimensional int32 tensor\n",
        "C = tf.constant([[123, 456, 789], [222, 333, 444]])"
      ],
      "execution_count": 15,
      "outputs": []
    },
    {
      "cell_type": "markdown",
      "metadata": {
        "id": "sKbO8_6BtwAG",
        "colab_type": "text"
      },
      "source": [
        "`tf.constant()` is one of many TensorFlow operations you will use in this lesson. The tensor returned by `tf.constant()` is called a constant tensor, because the value of the tensor never changes."
      ]
    },
    {
      "cell_type": "markdown",
      "metadata": {
        "id": "HudJDJoCt9aS",
        "colab_type": "text"
      },
      "source": [
        "## Session"
      ]
    },
    {
      "cell_type": "markdown",
      "metadata": {
        "id": "dU0EQgFTuEHP",
        "colab_type": "text"
      },
      "source": [
        "TensorFlow's api is built around the idea of a [computational graph](https://medium.com/tebs-lab/deep-neural-networks-as-computational-graphs-867fcaa56c9), a way of visualizing a mathematical process. Let's take the TensorFlow code you ran and turn that into a graph:\n",
        "![](https://video.udacity-data.com/topher/2016/October/580feadb_session/session.png)\n",
        "\n",
        "A \"TensorFlow Session\", as shown above, is an environment for running a graph. The session is in charge of allocating the operations to GPU(s) and/or CPU(s), including remote machines. Let's see how you use it.\n"
      ]
    },
    {
      "cell_type": "code",
      "metadata": {
        "id": "lYO8l81Bu1nt",
        "colab_type": "code",
        "colab": {
          "base_uri": "https://localhost:8080/",
          "height": 34
        },
        "outputId": "58a34fc5-02d1-4a2d-8106-717e993bf568"
      },
      "source": [
        "with tf.Session() as sess:\n",
        "    output = sess.run(hello_constant)\n",
        "    print(output)"
      ],
      "execution_count": 16,
      "outputs": [
        {
          "output_type": "stream",
          "text": [
            "b'Hello World!'\n"
          ],
          "name": "stdout"
        }
      ]
    },
    {
      "cell_type": "markdown",
      "metadata": {
        "id": "MMLKbrlEvpQ0",
        "colab_type": "text"
      },
      "source": [
        "The code has already created the tensor, `hello_constant`, from the previous lines. The next step is to evaluate the tensor in a session.\n",
        "\n",
        "The code creates a session instance, `sess`, using `tf.Session`. The `sess.run()` function then evaluate the tensor and returns the results."
      ]
    }
  ]
}