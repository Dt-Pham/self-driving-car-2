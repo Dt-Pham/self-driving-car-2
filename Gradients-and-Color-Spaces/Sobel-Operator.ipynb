{
 "cells": [
  {
   "cell_type": "markdown",
   "metadata": {},
   "source": [
    "# Sobel Operator\n",
    "\n",
    "The Sobel operator is at the heart of the Canny edge detection algorithm you used int he Introductory Lesson. Applying the Sobel operator to an images is a way of taking the derivative of the image in the _x_ or _y_ direction. The operators for _Sobel<sub>x</sub>_ and _Sobel<sub>y</sub>_, respectively, look like this:\n",
    "\n",
    "![](images/soble-operator.png)"
   ]
  },
  {
   "cell_type": "markdown",
   "metadata": {},
   "source": [
    "These are examples of Sobel operators with a kernel size of 3 (implying a 3x3 operator in each case). This is the minimum size, but the kernel size can be any odd number. A larger kernel implies taking the gradient over a larger region of the image, or, in other words, a smoother gradient.\n",
    "\n",
    "To understand how these operators take the derivative, you can think of overlaying either one on a 3x3 region of an image. If the imagae is flat across that region (i.e., there is little change in values across the given region), then the result (summing the element-wise product of the operator and corresponding image pizels) will be zero.\n",
    "\n",
    "$$gradient = \\Sigma(region*S_{x})$$\n",
    "\n",
    "For example, given:\n",
    "\n",
    "$$\n",
    "region = \\begin{pmatrix}\n",
    "2 & 2 & 2 \\\\\n",
    "2 & 2 & 2 \\\\\n",
    "2 & 2 & 2\n",
    "\\end{pmatrix},\n",
    "S_x = \\begin{pmatrix}\n",
    "-1 & 0 & 1 \\\\\n",
    "-2 & 0 & 2 \\\\\n",
    "-1 & 0 & 1\n",
    "\\end{pmatrix}\n",
    "$$\n",
    "\n",
    "The element-wise product would be:\n",
    "$$\n",
    "\\begin{pmatrix}\n",
    "-2 & 0 & 2 \\\\\n",
    "-4 & 0 & 4 \\\\\n",
    "-2 & 0 & 2\n",
    "\\end{pmatrix}\n",
    "$$\n",
    "\n",
    "This time, the sum of this matrix is 8, meaning a gradient exists in the x-direction. Note that in this example image region, if you applied S<sub>y</sub> operator, the result would be a gradient of 0 in the y-direction, as the values are not varying from top to bottom."
   ]
  },
  {
   "cell_type": "markdown",
   "metadata": {},
   "source": [
    "### Visual Example\n",
    "\n",
    "If we apply the Sobel x and y operators to this image:\n",
    "![](images/curved-lane.jpg)\n",
    "\n",
    "And then we take the absolute valute, we get the result:\n",
    "![](images/sobel-result.png)\n",
    "<center>Absolute value of Sobel x (left) and Sobel y (right).</center>"
   ]
  },
  {
   "cell_type": "markdown",
   "metadata": {},
   "source": [
    "In the above images, you can see that the gradients taken in both the x and y directions detect the lane lines and pick up other edges. Taking the gradient in the x direction emphasizes edges closer to vertical. Alternatively, taking the gradient in the y direction emphasizes edges closer to horizontal.\n",
    "\n",
    "In the upcoming exercises, you'll write functions to take various thresholds of the x and y gradients.\n",
    "\n",
    "Here's some code that might be useful:"
   ]
  },
  {
   "cell_type": "markdown",
   "metadata": {},
   "source": [
    "### Examples of Useful Code\n",
    "\n",
    "You need to pass a single color channel to the `cv2.Sobel()` function, so first convert it to grayscale:\n",
    "\n",
    "```python\n",
    "gray = cv2.cvtColor(im, cv2.COLOR_RGB2GRAY)\n",
    "```\n",
    "\n",
    "**Note:** Make sure you use the correct grayscale conversion depending on how you've read in your images. Use `cv2.COLOR_RGB2GRAY` if you've read in an image using `mpimg.imread()`. Use `cv2.COLOR_BGR2GRAY` if you've read in an image using `cv2.imread()`.\n",
    "\n",
    "Calculate the derivative in the x direction (the 1, 0 at the end denotes x direction):\n",
    "```python3\n",
    "sobelx = cv2.Sobel(gray, cv2.CV_64F, 1, 0)\n",
    "```\n",
    "\n",
    "Calculate the derivative in the y direction (the 0, 1 at the end denotes y direction):\n",
    "```python3\n",
    "sobely = cv2.Sobel(gray, cv2.CV_64F, 0, 1)\n",
    "```\n",
    "\n",
    "Calculate the absolute value of the x derivative:\n",
    "```python3\n",
    "abs_sobelx = np.absolute(sobelx)\n",
    "```\n",
    "\n",
    "Convert the absolute value image to 8-bit:\n",
    "```python3\n",
    "scaled_sobel = np.uint8(255*abs_sobelx/np.max(abs_sobelx))\n",
    "```"
   ]
  },
  {
   "cell_type": "markdown",
   "metadata": {},
   "source": [
    "**Note:** It's not entirely necessary to convert to 8-bit (range from 0 to 255) but in practice, it can be useful in the event that you've written a function to apply a particular threshold, and you want it to work the same on input images of different scales, like jpg vs. png. You could just as well choose a different standard range of values, like 0 to 1 etc.\n",
    "\n",
    "Create a binary threshold to select pixels based on gradient strength:\n",
    "```python3\n",
    "thresh_min = 20\n",
    "thresh_max = 100\n",
    "sxbinary = np.zeros_like(scaled_sobel)\n",
    "sxbinary[(scaled_sobel >= thresh_min) & (scaled_sobel <= thresh_max)] = 1\n",
    "plt.imshow(sxbinary, cmap='gray')\n",
    "```\n",
    "**Result**\n",
    "\n",
    "![](images/sobelx-binary.jpg)"
   ]
  }
 ],
 "metadata": {
  "kernelspec": {
   "display_name": "Python [conda env:carnd3]",
   "language": "python",
   "name": "conda-env-carnd3-py"
  },
  "language_info": {
   "codemirror_mode": {
    "name": "ipython",
    "version": 3
   },
   "file_extension": ".py",
   "mimetype": "text/x-python",
   "name": "python",
   "nbconvert_exporter": "python",
   "pygments_lexer": "ipython3",
   "version": "3.5.4"
  }
 },
 "nbformat": 4,
 "nbformat_minor": 4
}
