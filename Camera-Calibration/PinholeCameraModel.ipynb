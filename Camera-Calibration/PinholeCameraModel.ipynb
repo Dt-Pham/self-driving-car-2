{
 "nbformat": 4,
 "nbformat_minor": 2,
 "metadata": {
  "language_info": {
   "name": "python",
   "codemirror_mode": {
    "name": "ipython",
    "version": 3
   }
  },
  "orig_nbformat": 2,
  "file_extension": ".py",
  "mimetype": "text/x-python",
  "name": "python",
  "npconvert_exporter": "python",
  "pygments_lexer": "ipython3",
  "version": 3
 },
 "cells": [
  {
   "cell_type": "markdown",
   "metadata": {},
   "source": [
    "## Type of Distortion\n",
    "\n",
    "Real cameras use curved lenses to form an image, ad light rays often bend a little too much or too little at the edges of these lanses. This creates an effect that distorts the edges of images, so that lines or objects appear more or less curves than they actually are. This is called **radial distortion**, and it's the most common type of distortion.\n",
    "\n",
    "Another type of distortion, is **tangential distortion**. This occurs whe a camera's lens is not aligned perfecty paralled to the imaging plane, where the camera film or sensor is. This makes an image look tilted so that some objects appear farther away or closer than they actually are."
   ]
  },
  {
   "cell_type": "markdown",
   "metadata": {},
   "source": [
    "## Distortion Coefficients and Correction\n",
    "\n",
    "There are three coefficients needed to correct for **radial distortion: k1, k2, and k3.** To correct the appearance of radiallly distorted points in an image, one can use a correction formula.\n",
    "\n",
    "In the following equations, (_x, y_) is a point in a distorted image. To undistort these points, OpenCV calculates r, which is the known distance between a point in an undistorted (corrected) image (_x<sub>correct</sub>, y<sub>correct</sub>_) and the center of the image distortion, which is often the center of that image (_x<sub>c</sub>, y<sub>c</sub>_). This center point (_x<sub>c</sub>, y<sub>c</sub>_) is sometimes referred to as the _distortion center_. These points are pictured below.\n",
    "\n",
    "_Note_: The distortion coefficients **k3** is required to accurately relect _major_ radial distortion (like in wide angle lenses). However, for minor radial distortion, which most regular camera lenses have, k3 has a value close to or equal to zero and is negligible. So, in OpenCV, you can choose to ignore this coefficient; this is why it appears at the end of the distortion values array: \\[k1, k2, p1, p2, k3].\n",
    "\n",
    "![](images/distorted_vs_undistorted.png)\n",
    "\n",
    "<center> Points in a distorted and undistorted (corrected) image. The point (x, y) is a single point in a distorted image and (x<sub>corrected</sub>, y<sub>corrected</sub>) is where that point will appear in the undistorted (corrected) image. </center>\n",
    "\n",
    "\n",
    "$$ x_{distorted} = x_{ideal}(1 + k_1 r^2 + k_2 r^4 + k_3 r^6) $$\n",
    "$$ y_{distorted} = y_{ideal}(1 + k_1 r^2 + k_2 r^4 + k_3 r^6) $$\n",
    "<center> Radial distortion correction. </center>\n",
    "\n",
    "There are two more coefficients that account for **tangential distortion**: **p1** and **p2**, and this distortion can be corrected using a different correction formula.\n",
    "\n",
    "$$ x_{corrected} = x + [2p_1xy + p_2(r^2 + 2x^2)] $$\n",
    "$$ y_{corrected} = y + [p_1(r^2 + 2y^2) + 2p_2xy] $$"
   ]
  }
 ]
}