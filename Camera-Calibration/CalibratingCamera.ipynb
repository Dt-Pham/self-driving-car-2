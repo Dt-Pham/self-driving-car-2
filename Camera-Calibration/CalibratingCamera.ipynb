{
 "cells": [
  {
   "cell_type": "markdown",
   "metadata": {},
   "source": [
    "### Example of Useful Code\n",
    "\n",
    "Converting an image, imported by cv2 or the glob API, to grayscale:\n",
    "```\n",
    "gray = cv2.cvtColor(img, cv2.COLOR_BGR2GRAY)\n",
    "```\n",
    "\n",
    "_Note_: If you are reading in an image using mping.imread() this will read in an **RGB** image and you should convert to grayscale using _cv2.COLOR_RGB2GRAY_, but if you are using cv2.imread() or the glob API, as happens in this video example, this will read in a **BGR** image and you should convert to grayscale using _cv2.COLOR_BGR2GRAY_. We'll learn more about color conversions later on in this lesson, but please keep this in mind as you write your own code and look at code examples.\n",
    "\n",
    "Finding chessboard corners (for an 8x6 board):\n",
    "```python\n",
    "ret, corners = cv2.findChessboardCorners(gray, (8, 6), None)\n",
    "```\n",
    "\n",
    "Drawing detected corners on an image:\n",
    "```python\n",
    "img = cv2.drawChessboardCorners(img, (8, 6), corners, ret)\n",
    "```\n",
    "\n",
    "Camera calibration, given object points, image points, and the **shape of the grayscale image**:\n",
    "```python\n",
    "ret, mtx, dist, rvecs, tvecs = cv2.calibrateCamera(objpoints, imgpoints, gray.shape[::-1], None, None)\n",
    "```\n",
    "\n",
    "Undistorting a test image:\n",
    "```python\n",
    "dst = cv2.undistort(img, mtx, dist, None, mtx)\n",
    "```"
   ]
  },
  {
   "cell_type": "markdown",
   "metadata": {},
   "source": [
    "### A note on image shape\n",
    "\n",
    "The shape of the image, which is passed into the **calibrateCamera** function, is just the height and width of the image. One way to retrieve these values is by retrieving them from the **grayscale image shape** array `gray.shape[::-1]`. This returns the image width and height in pixel values like (1280, 960).\n",
    "\n",
    "Another way to retrieve the image shape, is to get them directly from the _color_ image by retrieving the first two values in the color image shape array using `img.shape[1::-1]`. This code snippet asks for just the first two values in the shape array, and reverses them. Note that in our case we are working with a greyscale image, so we only have 2 dimensions (color images have three, height, width and depth), so this is not necessary.\n",
    "\n",
    "It's important to use an entire grayscale image shape or the first two values of a color images shape. This is because the entire _shape_ of a color image will include a third value -- the number of color channels -- in addition to the height and width of the image. For example the shape array of a color image might be (960, 1280, 3), which are the pixel height and width of an image (960, 1280) and a third value (3) that represents the three color channels in the color image which you'll learn more about later, and if you try to pass these three values into the calibrateCamera function, you'll get an error."
   ]
  }
 ],
 "metadata": {
  "kernelspec": {
   "display_name": "Python [conda env:carnd3]",
   "language": "python",
   "name": "conda-env-carnd3-py"
  },
  "language_info": {
   "codemirror_mode": {
    "name": "ipython",
    "version": 3
   },
   "file_extension": ".py",
   "mimetype": "text/x-python",
   "name": "python",
   "nbconvert_exporter": "python",
   "pygments_lexer": "ipython3",
   "version": "3.5.4"
  }
 },
 "nbformat": 4,
 "nbformat_minor": 4
}
